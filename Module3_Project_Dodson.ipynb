{
  "nbformat": 4,
  "nbformat_minor": 0,
  "metadata": {
    "colab": {
      "provenance": [],
      "authorship_tag": "ABX9TyPfLkqoqQF4Vhz/xx6kaHNi",
      "include_colab_link": true
    },
    "kernelspec": {
      "name": "python3",
      "display_name": "Python 3"
    },
    "language_info": {
      "name": "python"
    }
  },
  "cells": [
    {
      "cell_type": "markdown",
      "metadata": {
        "id": "view-in-github",
        "colab_type": "text"
      },
      "source": [
        "<a href=\"https://colab.research.google.com/github/EDodson04/First-Project-DA/blob/main/Module3_Project_Dodson.ipynb\" target=\"_parent\"><img src=\"https://colab.research.google.com/assets/colab-badge.svg\" alt=\"Open In Colab\"/></a>"
      ]
    },
    {
      "cell_type": "code",
      "execution_count": 1,
      "metadata": {
        "id": "U-4Wfxce5d3o"
      },
      "outputs": [],
      "source": [
        "import pandas as pd\n",
        "import requests\n",
        "from bs4 import BeautifulSoup\n",
        "response = requests.get('https://btech-data-analytics.github.io/bridgerland-technical-college/bookstore.html').text\n",
        "soup = BeautifulSoup(response, 'html.parser')"
      ]
    },
    {
      "cell_type": "code",
      "source": [
        "soup.find_all('div')"
      ],
      "metadata": {
        "colab": {
          "base_uri": "https://localhost:8080/"
        },
        "id": "CIGGTn7e6r9L",
        "outputId": "1102e42f-a343-420e-be68-7f707c85231c"
      },
      "execution_count": 2,
      "outputs": [
        {
          "output_type": "execute_result",
          "data": {
            "text/plain": [
              "[<div class=\"w3-bar w3-blue-grey w3-large\" style=\"padding: 0rem 8rem 0rem 8rem\">\n",
              " <a href=\"/bridgerland-technical-college/home.html\"><img class=\"\" src=\"bobs_bookstore_white.png\" style=\"max-height: 2.8rem;\"/></a>\n",
              " <a class=\"w3-bar-item w3-button w3-right\" href=\"/bridgerland-technical-college/bookstore.html\">Store</a>\n",
              " <a class=\"w3-bar-item w3-button w3-right\" href=\"/bridgerland-technical-college/contact.html\">Contact</a>\n",
              " <a class=\"w3-bar-item w3-button w3-right\" href=\"/bridgerland-technical-college/about.html\">About</a>\n",
              " </div>,\n",
              " <div class=\"w3-container\" style=\"max-width: 1000px;margin: auto;\">\n",
              " <h1>Books for Sale</h1>\n",
              " <table class=\"w3-table-all w3-hoverable w3-small\">\n",
              " <thead>\n",
              " <tr>\n",
              " <th>ISBN</th>\n",
              " <th>Title</th>\n",
              " <th>Author</th>\n",
              " <th>Language</th>\n",
              " <th>Pages</th>\n",
              " <th>Topic</th>\n",
              " <th>Price</th>\n",
              " <th></th>\n",
              " </tr>\n",
              " </thead>\n",
              " <tr class=\"book\">\n",
              " <td>978-1234567890</td>\n",
              " <td>Whiskers of Wisdom: Tales from Feline Philosophers</td>\n",
              " <td>Penelope Wainwright</td>\n",
              " <td>English</td>\n",
              " <td>256</td>\n",
              " <td>Cats</td>\n",
              " <td>$19.99</td>\n",
              " <td><button>Buy now</button></td>\n",
              " </tr>\n",
              " <tr class=\"book\">\n",
              " <td>978-2345678901</td>\n",
              " <td>Purrfectly Pawesome: A Cat's Life</td>\n",
              " <td>Jasper Sterling</td>\n",
              " <td>English</td>\n",
              " <td>192</td>\n",
              " <td>Cats</td>\n",
              " <td>$15.99</td>\n",
              " <td><button>Buy now</button></td>\n",
              " </tr>\n",
              " <tr class=\"book\">\n",
              " <td>978-3456789012</td>\n",
              " <td>Cat Tales: Adventures in Whiskerland</td>\n",
              " <td>Penelope Wainwright</td>\n",
              " <td>English</td>\n",
              " <td>320</td>\n",
              " <td>Cats</td>\n",
              " <td>$21.99</td>\n",
              " <td><button>Buy now</button></td>\n",
              " </tr>\n",
              " <tr class=\"book\">\n",
              " <td>978-4567890123</td>\n",
              " <td>The Enigmatic Paws: Mysteries of Meowville</td>\n",
              " <td>Maximilian Thorne</td>\n",
              " <td>English</td>\n",
              " <td>288</td>\n",
              " <td>Cats</td>\n",
              " <td>$17.99</td>\n",
              " <td><button>Buy now</button></td>\n",
              " </tr>\n",
              " <tr class=\"book\">\n",
              " <td>978-5678901234</td>\n",
              " <td>Cats in Wonderland</td>\n",
              " <td>Isadora Harrington</td>\n",
              " <td>English</td>\n",
              " <td>224</td>\n",
              " <td>Cats</td>\n",
              " <td>$16.99</td>\n",
              " <td><button>Buy now</button></td>\n",
              " </tr>\n",
              " <tr class=\"book\">\n",
              " <td>978-6789012345</td>\n",
              " <td>Whisker Wisdom: Life Lessons from Feline Sages</td>\n",
              " <td>Penelope Wainwright</td>\n",
              " <td>English</td>\n",
              " <td>288</td>\n",
              " <td>Cats</td>\n",
              " <td>$20.99</td>\n",
              " <td><button>Buy now</button></td>\n",
              " </tr>\n",
              " <tr class=\"book\">\n",
              " <td>978-7890123456</td>\n",
              " <td>Catnip Chronicles: A Purrfect Journey</td>\n",
              " <td>Jasper Sterling</td>\n",
              " <td>English</td>\n",
              " <td>192</td>\n",
              " <td>Cats</td>\n",
              " <td>$14.99</td>\n",
              " <td><button>Buy now</button></td>\n",
              " </tr>\n",
              " <tr class=\"book\">\n",
              " <td>978-8901234567</td>\n",
              " <td>Cat-astrophe: Tales of Misadventures</td>\n",
              " <td>Celeste Nightshade</td>\n",
              " <td>English</td>\n",
              " <td>240</td>\n",
              " <td>Cats</td>\n",
              " <td>$18.99</td>\n",
              " <td><button>Buy now</button></td>\n",
              " </tr>\n",
              " <tr class=\"book\">\n",
              " <td>978-9012345678</td>\n",
              " <td>The Cat's Whisker: A Feline Fantasy</td>\n",
              " <td>Penelope Wainwright</td>\n",
              " <td>English</td>\n",
              " <td>208</td>\n",
              " <td>Cats</td>\n",
              " <td>$16.99</td>\n",
              " <td><button>Buy now</button></td>\n",
              " </tr>\n",
              " <tr class=\"book\">\n",
              " <td>978-0123456789</td>\n",
              " <td>Fur and Friendship: Stories of Feline Companions</td>\n",
              " <td>Seraphina Montague</td>\n",
              " <td>English</td>\n",
              " <td>176</td>\n",
              " <td>Cats</td>\n",
              " <td>$12.99</td>\n",
              " <td><button>Buy now</button></td>\n",
              " </tr>\n",
              " <tr class=\"book\">\n",
              " <td>978-1234567890</td>\n",
              " <td>Tails of Loyalty: Canine Chronicles</td>\n",
              " <td>Benjamin Barkley</td>\n",
              " <td>English</td>\n",
              " <td>256</td>\n",
              " <td>Dogs</td>\n",
              " <td>$29.99</td>\n",
              " <td><button>Buy now</button></td>\n",
              " </tr>\n",
              " <tr class=\"book\">\n",
              " <td>978-2345678901</td>\n",
              " <td>Pawsitive Adventures: A Dog's Journey</td>\n",
              " <td>Sophie Shepherd</td>\n",
              " <td>English</td>\n",
              " <td>192</td>\n",
              " <td>Dogs</td>\n",
              " <td>$25.99</td>\n",
              " <td><button>Buy now</button></td>\n",
              " </tr>\n",
              " <tr class=\"book\">\n",
              " <td>978-3456789012</td>\n",
              " <td>Barking Wisdom: Lessons from Wise Canines</td>\n",
              " <td>Oliver Obedience</td>\n",
              " <td>English</td>\n",
              " <td>320</td>\n",
              " <td>Dogs</td>\n",
              " <td>$21.99</td>\n",
              " <td><button>Buy now</button></td>\n",
              " </tr>\n",
              " <tr class=\"book\">\n",
              " <td>978-4567890123</td>\n",
              " <td>Dogged Determination: Stories of Resilient Pooches</td>\n",
              " <td>Ruby Ruffington</td>\n",
              " <td>English</td>\n",
              " <td>288</td>\n",
              " <td>Dogs</td>\n",
              " <td>$27.99</td>\n",
              " <td><button>Buy now</button></td>\n",
              " </tr>\n",
              " <tr class=\"book\">\n",
              " <td>978-5678901234</td>\n",
              " <td>The Bark Brigade: Canine Heroes Among Us</td>\n",
              " <td>Benjamin Barkley</td>\n",
              " <td>English</td>\n",
              " <td>224</td>\n",
              " <td>Dogs</td>\n",
              " <td>$26.99</td>\n",
              " <td><button>Buy now</button></td>\n",
              " </tr>\n",
              " </table>\n",
              " </div>,\n",
              " <div class=\"footer-content\">\n",
              " <p>© 2023 Bob's Bookstore</p>\n",
              " <ul class=\"social-icons\">\n",
              " <li><a href=\"#\"><img alt=\"Facebook\" src=\"facebook.png\"/></a></li>\n",
              " <li><a href=\"#\"><img alt=\"Twitter\" src=\"twitter.png\"/></a></li>\n",
              " <li><a href=\"#\"><img alt=\"Instagram\" src=\"instagram.png\"/></a></li>\n",
              " </ul>\n",
              " </div>]"
            ]
          },
          "metadata": {},
          "execution_count": 2
        }
      ]
    },
    {
      "cell_type": "code",
      "source": [
        "import requests\n",
        "from bs4 import BeautifulSoup\n",
        "\n",
        "# get text from webpage\n",
        "response = requests.get('https://btech-data-analytics.github.io/bridgerland-technical-college/bookstore.html').text\n",
        "soup = BeautifulSoup(response, 'html.parser')\n",
        "\n",
        "# Send request to get webpage\n",
        "response = requests.get(url)\n",
        "soup = BeautifulSoup(response.text, \"html.parser\")\n",
        "\n",
        "# Find the first table\n",
        "table = soup.find('table')\n",
        "\n",
        "#go through data to get data\n",
        "for row in table.find_all('tr')[1:]:  # Skip the header row\n",
        "    columns = row.find_all('td')\n",
        "    if len(columns) > 2:  # Ensure there are enough columns\n",
        "        print(columns[2].text.strip())  # Extract and print the author name\n"
      ],
      "metadata": {
        "colab": {
          "base_uri": "https://localhost:8080/"
        },
        "id": "6eJiivzVDrI6",
        "outputId": "e1f7a772-e342-4f88-ec1f-4c167ffb3caa"
      },
      "execution_count": 4,
      "outputs": [
        {
          "output_type": "stream",
          "name": "stdout",
          "text": [
            "Penelope Wainwright\n",
            "Jasper Sterling\n",
            "Penelope Wainwright\n",
            "Maximilian Thorne\n",
            "Isadora Harrington\n",
            "Penelope Wainwright\n",
            "Jasper Sterling\n",
            "Celeste Nightshade\n",
            "Penelope Wainwright\n",
            "Seraphina Montague\n",
            "Benjamin Barkley\n",
            "Sophie Shepherd\n",
            "Oliver Obedience\n",
            "Ruby Ruffington\n",
            "Benjamin Barkley\n"
          ]
        }
      ]
    },
    {
      "cell_type": "code",
      "source": [
        "import requests\n",
        "from bs4 import BeautifulSoup\n",
        "from collections import Counter\n",
        "\n",
        "# get text from webpage\n",
        "response = requests.get('https://btech-data-analytics.github.io/bridgerland-technical-college/bookstore.html').text\n",
        "soup = BeautifulSoup(response, 'html.parser')\n",
        "\n",
        "# Send request to fetch the webpage\n",
        "response = requests.get(url)\n",
        "soup = BeautifulSoup(response.text, \"html.parser\")\n",
        "\n",
        "# Find the first table\n",
        "table = soup.find('table')\n",
        "\n",
        "#go through data to get data\n",
        "authors = []\n",
        "for row in table.find_all('tr')[1:]:  # Skip header row\n",
        "    columns = row.find_all('td')\n",
        "    if len(columns) > 2:  # Ensure row has enough columns\n",
        "        authors.append(columns[2].text.strip())\n",
        "\n",
        "# Count occurrences of each author\n",
        "author_counts = Counter(authors)\n",
        "\n",
        "# Find the most common author\n",
        "if author_counts:\n",
        "    most_common_author, most_books = author_counts.most_common(1)[0]\n",
        "    print(f\"Author with the most books: {most_common_author} ({most_books} books)\")\n",
        "else:\n",
        "    print(\"No authors found.\")\n"
      ],
      "metadata": {
        "colab": {
          "base_uri": "https://localhost:8080/"
        },
        "id": "od64o5uGEr6W",
        "outputId": "1e6616ad-1227-49fe-8f6e-3db496619a30"
      },
      "execution_count": 5,
      "outputs": [
        {
          "output_type": "stream",
          "name": "stdout",
          "text": [
            "Author with the most books: Penelope Wainwright (4 books)\n"
          ]
        }
      ]
    },
    {
      "cell_type": "code",
      "source": [
        "import requests\n",
        "from bs4 import BeautifulSoup\n",
        "\n",
        "# get text from webpage\n",
        "response = requests.get('https://btech-data-analytics.github.io/bridgerland-technical-college/bookstore.html').text\n",
        "soup = BeautifulSoup(response, 'html.parser')\n",
        "\n",
        "# Send request to fetch the webpage\n",
        "response = requests.get(url)\n",
        "soup = BeautifulSoup(response.text, \"html.parser\")\n",
        "\n",
        "# Find the first table\n",
        "table = soup.find('table')\n",
        "\n",
        "# get data from the table\n",
        "for row in table.find_all('tr')[1:]:  # Skip the header row\n",
        "    columns = row.find_all('td')\n",
        "    if len(columns) > 1:  # Ensure there are enough columns\n",
        "        print(columns[5].text.strip())  # Extract and print the topic"
      ],
      "metadata": {
        "colab": {
          "base_uri": "https://localhost:8080/"
        },
        "id": "VY_dPH7mGJiI",
        "outputId": "632d57d0-67aa-4853-8eba-f12e6607d6bf"
      },
      "execution_count": null,
      "outputs": [
        {
          "output_type": "stream",
          "name": "stdout",
          "text": [
            "Cats\n",
            "Cats\n",
            "Cats\n",
            "Cats\n",
            "Cats\n",
            "Cats\n",
            "Cats\n",
            "Cats\n",
            "Cats\n",
            "Cats\n",
            "Dogs\n",
            "Dogs\n",
            "Dogs\n",
            "Dogs\n",
            "Dogs\n"
          ]
        }
      ]
    },
    {
      "cell_type": "code",
      "source": [
        "import requests\n",
        "from bs4 import BeautifulSoup\n",
        "from collections import Counter\n",
        "import re\n",
        "\n",
        "response = requests.get('https://btech-data-analytics.github.io/bridgerland-technical-college/bookstore.html').text\n",
        "soup = BeautifulSoup(response, 'html.parser')\n",
        "\n",
        "\n",
        "# Find the table\n",
        "table = soup.find('table')\n",
        "\n",
        "# get book topics\n",
        "topics = []\n",
        "for row in table.find_all('tr')[1:]:  # Skip header row\n",
        "    columns = row.find_all('td')\n",
        "    if len(columns) > 0:  # Ensure row has at least one column\n",
        "        topics.append(columns[5].text.strip())  # Extract and clean title\n",
        "\n",
        "# Count occurrences of each word\n",
        "topic_counts = Counter(topics)\n",
        "\n",
        "# Find the most common topic\n",
        "if topic_counts:\n",
        "    most_common_topic, occurrences = topic_counts.most_common(1)[0]\n",
        "    print(f\"The most popular book topic is '{most_common_topic}' with {occurrences} occurrences.\")\n",
        "else:\n",
        "    print(\"No topics found.\")\n"
      ],
      "metadata": {
        "colab": {
          "base_uri": "https://localhost:8080/"
        },
        "id": "jam_DupxGaRS",
        "outputId": "2e8a680d-c49b-4756-f89c-70ef4e2fa1af"
      },
      "execution_count": null,
      "outputs": [
        {
          "output_type": "stream",
          "name": "stdout",
          "text": [
            "The most popular book topic is 'Cats' with 10 occurrences.\n"
          ]
        }
      ]
    },
    {
      "cell_type": "code",
      "source": [
        "import requests\n",
        "from bs4 import BeautifulSoup\n",
        "from collections import defaultdict\n",
        "import re\n",
        "\n",
        "response = requests.get('https://btech-data-analytics.github.io/bridgerland-technical-college/bookstore.html').text\n",
        "soup = BeautifulSoup(response, 'html.parser')\n",
        "\n",
        "# Find the table\n",
        "table = soup.find('table')\n",
        "\n",
        "# create dictionary to store topics\n",
        "topic_prices = defaultdict(list)\n",
        "\n",
        "# get data from table\n",
        "for row in table.find_all('tr')[1:]:  # Skip header row\n",
        "    columns = row.find_all('td')\n",
        "    if len(columns) > 2:  # Ensure row has enough columns\n",
        "        topic = columns[5].text.strip()  # Book topic\n",
        "        price_text = columns[6].text.strip()  # book price\n",
        "\n",
        "        # Extract numeric price value\n",
        "        price_match = re.search(r\"\\d+\\.\\d+\", price_text)  # Find decimal number\n",
        "        if price_match:\n",
        "            price = float(price_match.group())  # Convert to float\n",
        "\n",
        "\n",
        "            # Store price under the topic\n",
        "            topic_prices[topic].append(price)\n",
        "\n",
        "# Calculate average price per topic\n",
        "topic_avg_price = {topic: sum(prices) / len(prices) for topic, prices in topic_prices.items()}\n",
        "\n",
        "# Find the most expensive topic\n",
        "most_expensive_topic = max(topic_avg_price, key=topic_avg_price.get)\n",
        "print(f\"The most expensive book topic is '{most_expensive_topic}' with an average price of ${topic_avg_price[most_expensive_topic]:.2f}.\")\n",
        "\n"
      ],
      "metadata": {
        "colab": {
          "base_uri": "https://localhost:8080/"
        },
        "id": "pPH70LAKFuav",
        "outputId": "5a9588e7-9f02-40bc-8534-8bc7ce8c3340"
      },
      "execution_count": null,
      "outputs": [
        {
          "output_type": "stream",
          "name": "stdout",
          "text": [
            "The most expensive book topic is 'Dogs' with an average price of $26.59.\n"
          ]
        }
      ]
    },
    {
      "cell_type": "code",
      "source": [
        "import requests\n",
        "from bs4 import BeautifulSoup\n",
        "from collections import defaultdict\n",
        "import re\n",
        "\n",
        "response = requests.get('https://btech-data-analytics.github.io/bridgerland-technical-college/bookstore.html').text\n",
        "soup = BeautifulSoup(response, 'html.parser')\n",
        "\n",
        "\n",
        "# Send request to fetch the webpage\n",
        "response = requests.get(url)\n",
        "soup = BeautifulSoup(response.text, \"html.parser\")\n",
        "\n",
        "# Find the table\n",
        "table = soup.find('table')\n",
        "\n",
        "# create dictionary to store topics\n",
        "topic_pages = defaultdict(list)\n",
        "\n",
        "# get dat from table\n",
        "for row in table.find_all('tr')[1:]:  # Skip header row\n",
        "    columns = row.find_all('td')\n",
        "    if len(columns) > 3:  # Ensure row has enough columns\n",
        "        topic = columns[5].text.strip()  # Book topics\n",
        "        pages = columns[4].text.strip()  # Pages count\n",
        "\n",
        "        # Extract numeric page count\n",
        "        pages_match = re.search(r\"\\d+\", pages)  # Find numeric value\n",
        "        if pages_match:\n",
        "            pages = int(pages_match.group())  # Convert to integer\n",
        "\n",
        "\n",
        "            # Store page count under the topic\n",
        "            topic_pages[topic].append(pages)\n",
        "\n",
        "# Calculate average page count per topic\n",
        "topic_avg_pages = {topic: sum(pages) / len(pages) for topic, pages in topic_pages.items()}\n",
        "\n",
        "# Find the topic with the most pages on average\n",
        "if topic_avg_pages:\n",
        "    most_pages_topic = max(topic_avg_pages, key=topic_avg_pages.get)\n",
        "    print(f\"The book topic with the most pages on average is '{most_pages_topic}' with an average of {topic_avg_pages[most_pages_topic]:.2f} pages.\")\n",
        "else:\n",
        "    print(\"No page data found.\")\n"
      ],
      "metadata": {
        "colab": {
          "base_uri": "https://localhost:8080/"
        },
        "id": "dCV-x0E9h4u5",
        "outputId": "577255ad-ff03-45b5-956c-4c910455deac"
      },
      "execution_count": null,
      "outputs": [
        {
          "output_type": "stream",
          "name": "stdout",
          "text": [
            "The book topic with the most pages on average is 'Dogs' with an average of 256.00 pages.\n"
          ]
        }
      ]
    }
  ]
}