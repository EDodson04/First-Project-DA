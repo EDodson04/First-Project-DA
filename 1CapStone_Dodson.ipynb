{
  "nbformat": 4,
  "nbformat_minor": 0,
  "metadata": {
    "colab": {
      "provenance": [],
      "toc_visible": true,
      "authorship_tag": "ABX9TyNn7Lvv5VJ+qkC3Hx3qISW7",
      "include_colab_link": true
    },
    "kernelspec": {
      "name": "python3",
      "display_name": "Python 3"
    },
    "language_info": {
      "name": "python"
    }
  },
  "cells": [
    {
      "cell_type": "markdown",
      "metadata": {
        "id": "view-in-github",
        "colab_type": "text"
      },
      "source": [
        "<a href=\"https://colab.research.google.com/github/EDodson04/First-Project-DA/blob/main/1CapStone_Dodson.ipynb\" target=\"_parent\"><img src=\"https://colab.research.google.com/assets/colab-badge.svg\" alt=\"Open In Colab\"/></a>"
      ]
    },
    {
      "cell_type": "code",
      "source": [
        "import pandas as pd\n"
      ],
      "metadata": {
        "id": "rAofjWWz0aQM"
      },
      "execution_count": 1,
      "outputs": []
    },
    {
      "cell_type": "code",
      "source": [
        "pip install python-docx PyPDF2\n"
      ],
      "metadata": {
        "colab": {
          "base_uri": "https://localhost:8080/"
        },
        "id": "W1OxDEpM0axQ",
        "outputId": "bcaec2cc-57ae-4578-e4e3-5dc328f1ac9e"
      },
      "execution_count": 2,
      "outputs": [
        {
          "output_type": "stream",
          "name": "stdout",
          "text": [
            "Collecting python-docx\n",
            "  Downloading python_docx-1.1.2-py3-none-any.whl.metadata (2.0 kB)\n",
            "Collecting PyPDF2\n",
            "  Downloading pypdf2-3.0.1-py3-none-any.whl.metadata (6.8 kB)\n",
            "Requirement already satisfied: lxml>=3.1.0 in /usr/local/lib/python3.11/dist-packages (from python-docx) (5.4.0)\n",
            "Requirement already satisfied: typing-extensions>=4.9.0 in /usr/local/lib/python3.11/dist-packages (from python-docx) (4.14.0)\n",
            "Downloading python_docx-1.1.2-py3-none-any.whl (244 kB)\n",
            "\u001b[2K   \u001b[90m━━━━━━━━━━━━━━━━━━━━━━━━━━━━━━━━━━━━━━━━\u001b[0m \u001b[32m244.3/244.3 kB\u001b[0m \u001b[31m4.0 MB/s\u001b[0m eta \u001b[36m0:00:00\u001b[0m\n",
            "\u001b[?25hDownloading pypdf2-3.0.1-py3-none-any.whl (232 kB)\n",
            "\u001b[2K   \u001b[90m━━━━━━━━━━━━━━━━━━━━━━━━━━━━━━━━━━━━━━━━\u001b[0m \u001b[32m232.6/232.6 kB\u001b[0m \u001b[31m16.6 MB/s\u001b[0m eta \u001b[36m0:00:00\u001b[0m\n",
            "\u001b[?25hInstalling collected packages: python-docx, PyPDF2\n",
            "Successfully installed PyPDF2-3.0.1 python-docx-1.1.2\n"
          ]
        }
      ]
    },
    {
      "cell_type": "code",
      "source": [
        "pip install python-docx PyPDF2 openpyxl pandas\n"
      ],
      "metadata": {
        "colab": {
          "base_uri": "https://localhost:8080/"
        },
        "id": "Bf9nWLTGAEIZ",
        "outputId": "d1a1858f-f44a-4068-9009-f7fa841a9ec5"
      },
      "execution_count": 3,
      "outputs": [
        {
          "output_type": "stream",
          "name": "stdout",
          "text": [
            "Requirement already satisfied: python-docx in /usr/local/lib/python3.11/dist-packages (1.1.2)\n",
            "Requirement already satisfied: PyPDF2 in /usr/local/lib/python3.11/dist-packages (3.0.1)\n",
            "Requirement already satisfied: openpyxl in /usr/local/lib/python3.11/dist-packages (3.1.5)\n",
            "Requirement already satisfied: pandas in /usr/local/lib/python3.11/dist-packages (2.2.2)\n",
            "Requirement already satisfied: lxml>=3.1.0 in /usr/local/lib/python3.11/dist-packages (from python-docx) (5.4.0)\n",
            "Requirement already satisfied: typing-extensions>=4.9.0 in /usr/local/lib/python3.11/dist-packages (from python-docx) (4.14.0)\n",
            "Requirement already satisfied: et-xmlfile in /usr/local/lib/python3.11/dist-packages (from openpyxl) (2.0.0)\n",
            "Requirement already satisfied: numpy>=1.23.2 in /usr/local/lib/python3.11/dist-packages (from pandas) (2.0.2)\n",
            "Requirement already satisfied: python-dateutil>=2.8.2 in /usr/local/lib/python3.11/dist-packages (from pandas) (2.9.0.post0)\n",
            "Requirement already satisfied: pytz>=2020.1 in /usr/local/lib/python3.11/dist-packages (from pandas) (2025.2)\n",
            "Requirement already satisfied: tzdata>=2022.7 in /usr/local/lib/python3.11/dist-packages (from pandas) (2025.2)\n",
            "Requirement already satisfied: six>=1.5 in /usr/local/lib/python3.11/dist-packages (from python-dateutil>=2.8.2->pandas) (1.17.0)\n"
          ]
        }
      ]
    },
    {
      "cell_type": "code",
      "source": [
        "from google.colab import files\n",
        "\n",
        "uploaded = files.upload()  # Select multiple files (.pdf or .docx)\n"
      ],
      "metadata": {
        "colab": {
          "base_uri": "https://localhost:8080/",
          "height": 559
        },
        "id": "cISqrFUBCPML",
        "outputId": "f275b1ee-0855-4fa4-ec24-31c3e8b6a9c1"
      },
      "execution_count": 13,
      "outputs": [
        {
          "output_type": "display_data",
          "data": {
            "text/plain": [
              "<IPython.core.display.HTML object>"
            ],
            "text/html": [
              "\n",
              "     <input type=\"file\" id=\"files-46d0d444-bcff-402b-b405-fd77014577df\" name=\"files[]\" multiple disabled\n",
              "        style=\"border:none\" />\n",
              "     <output id=\"result-46d0d444-bcff-402b-b405-fd77014577df\">\n",
              "      Upload widget is only available when the cell has been executed in the\n",
              "      current browser session. Please rerun this cell to enable.\n",
              "      </output>\n",
              "      <script>// Copyright 2017 Google LLC\n",
              "//\n",
              "// Licensed under the Apache License, Version 2.0 (the \"License\");\n",
              "// you may not use this file except in compliance with the License.\n",
              "// You may obtain a copy of the License at\n",
              "//\n",
              "//      http://www.apache.org/licenses/LICENSE-2.0\n",
              "//\n",
              "// Unless required by applicable law or agreed to in writing, software\n",
              "// distributed under the License is distributed on an \"AS IS\" BASIS,\n",
              "// WITHOUT WARRANTIES OR CONDITIONS OF ANY KIND, either express or implied.\n",
              "// See the License for the specific language governing permissions and\n",
              "// limitations under the License.\n",
              "\n",
              "/**\n",
              " * @fileoverview Helpers for google.colab Python module.\n",
              " */\n",
              "(function(scope) {\n",
              "function span(text, styleAttributes = {}) {\n",
              "  const element = document.createElement('span');\n",
              "  element.textContent = text;\n",
              "  for (const key of Object.keys(styleAttributes)) {\n",
              "    element.style[key] = styleAttributes[key];\n",
              "  }\n",
              "  return element;\n",
              "}\n",
              "\n",
              "// Max number of bytes which will be uploaded at a time.\n",
              "const MAX_PAYLOAD_SIZE = 100 * 1024;\n",
              "\n",
              "function _uploadFiles(inputId, outputId) {\n",
              "  const steps = uploadFilesStep(inputId, outputId);\n",
              "  const outputElement = document.getElementById(outputId);\n",
              "  // Cache steps on the outputElement to make it available for the next call\n",
              "  // to uploadFilesContinue from Python.\n",
              "  outputElement.steps = steps;\n",
              "\n",
              "  return _uploadFilesContinue(outputId);\n",
              "}\n",
              "\n",
              "// This is roughly an async generator (not supported in the browser yet),\n",
              "// where there are multiple asynchronous steps and the Python side is going\n",
              "// to poll for completion of each step.\n",
              "// This uses a Promise to block the python side on completion of each step,\n",
              "// then passes the result of the previous step as the input to the next step.\n",
              "function _uploadFilesContinue(outputId) {\n",
              "  const outputElement = document.getElementById(outputId);\n",
              "  const steps = outputElement.steps;\n",
              "\n",
              "  const next = steps.next(outputElement.lastPromiseValue);\n",
              "  return Promise.resolve(next.value.promise).then((value) => {\n",
              "    // Cache the last promise value to make it available to the next\n",
              "    // step of the generator.\n",
              "    outputElement.lastPromiseValue = value;\n",
              "    return next.value.response;\n",
              "  });\n",
              "}\n",
              "\n",
              "/**\n",
              " * Generator function which is called between each async step of the upload\n",
              " * process.\n",
              " * @param {string} inputId Element ID of the input file picker element.\n",
              " * @param {string} outputId Element ID of the output display.\n",
              " * @return {!Iterable<!Object>} Iterable of next steps.\n",
              " */\n",
              "function* uploadFilesStep(inputId, outputId) {\n",
              "  const inputElement = document.getElementById(inputId);\n",
              "  inputElement.disabled = false;\n",
              "\n",
              "  const outputElement = document.getElementById(outputId);\n",
              "  outputElement.innerHTML = '';\n",
              "\n",
              "  const pickedPromise = new Promise((resolve) => {\n",
              "    inputElement.addEventListener('change', (e) => {\n",
              "      resolve(e.target.files);\n",
              "    });\n",
              "  });\n",
              "\n",
              "  const cancel = document.createElement('button');\n",
              "  inputElement.parentElement.appendChild(cancel);\n",
              "  cancel.textContent = 'Cancel upload';\n",
              "  const cancelPromise = new Promise((resolve) => {\n",
              "    cancel.onclick = () => {\n",
              "      resolve(null);\n",
              "    };\n",
              "  });\n",
              "\n",
              "  // Wait for the user to pick the files.\n",
              "  const files = yield {\n",
              "    promise: Promise.race([pickedPromise, cancelPromise]),\n",
              "    response: {\n",
              "      action: 'starting',\n",
              "    }\n",
              "  };\n",
              "\n",
              "  cancel.remove();\n",
              "\n",
              "  // Disable the input element since further picks are not allowed.\n",
              "  inputElement.disabled = true;\n",
              "\n",
              "  if (!files) {\n",
              "    return {\n",
              "      response: {\n",
              "        action: 'complete',\n",
              "      }\n",
              "    };\n",
              "  }\n",
              "\n",
              "  for (const file of files) {\n",
              "    const li = document.createElement('li');\n",
              "    li.append(span(file.name, {fontWeight: 'bold'}));\n",
              "    li.append(span(\n",
              "        `(${file.type || 'n/a'}) - ${file.size} bytes, ` +\n",
              "        `last modified: ${\n",
              "            file.lastModifiedDate ? file.lastModifiedDate.toLocaleDateString() :\n",
              "                                    'n/a'} - `));\n",
              "    const percent = span('0% done');\n",
              "    li.appendChild(percent);\n",
              "\n",
              "    outputElement.appendChild(li);\n",
              "\n",
              "    const fileDataPromise = new Promise((resolve) => {\n",
              "      const reader = new FileReader();\n",
              "      reader.onload = (e) => {\n",
              "        resolve(e.target.result);\n",
              "      };\n",
              "      reader.readAsArrayBuffer(file);\n",
              "    });\n",
              "    // Wait for the data to be ready.\n",
              "    let fileData = yield {\n",
              "      promise: fileDataPromise,\n",
              "      response: {\n",
              "        action: 'continue',\n",
              "      }\n",
              "    };\n",
              "\n",
              "    // Use a chunked sending to avoid message size limits. See b/62115660.\n",
              "    let position = 0;\n",
              "    do {\n",
              "      const length = Math.min(fileData.byteLength - position, MAX_PAYLOAD_SIZE);\n",
              "      const chunk = new Uint8Array(fileData, position, length);\n",
              "      position += length;\n",
              "\n",
              "      const base64 = btoa(String.fromCharCode.apply(null, chunk));\n",
              "      yield {\n",
              "        response: {\n",
              "          action: 'append',\n",
              "          file: file.name,\n",
              "          data: base64,\n",
              "        },\n",
              "      };\n",
              "\n",
              "      let percentDone = fileData.byteLength === 0 ?\n",
              "          100 :\n",
              "          Math.round((position / fileData.byteLength) * 100);\n",
              "      percent.textContent = `${percentDone}% done`;\n",
              "\n",
              "    } while (position < fileData.byteLength);\n",
              "  }\n",
              "\n",
              "  // All done.\n",
              "  yield {\n",
              "    response: {\n",
              "      action: 'complete',\n",
              "    }\n",
              "  };\n",
              "}\n",
              "\n",
              "scope.google = scope.google || {};\n",
              "scope.google.colab = scope.google.colab || {};\n",
              "scope.google.colab._files = {\n",
              "  _uploadFiles,\n",
              "  _uploadFilesContinue,\n",
              "};\n",
              "})(self);\n",
              "</script> "
            ]
          },
          "metadata": {}
        },
        {
          "output_type": "stream",
          "name": "stdout",
          "text": [
            "Saving 01_Q3_2021_TTM.pdf to 01_Q3_2021_TTM.pdf\n",
            "Saving 02_Q4_2021_TTM.pdf to 02_Q4_2021_TTM.pdf\n",
            "Saving 03_Q1_2022_TTM.pdf to 03_Q1_2022_TTM.pdf\n",
            "Saving 04_Q2_2022_TTM.pdf to 04_Q2_2022_TTM.pdf\n",
            "Saving 05_Q3_2022_TTM.pdf to 05_Q3_2022_TTM.pdf\n",
            "Saving 06_Q4_2022_TTM.pdf to 06_Q4_2022_TTM.pdf\n",
            "Saving 07_Q1_2023_TTM.pdf to 07_Q1_2023_TTM.pdf\n",
            "Saving 08_Q2_2023_TTM.pdf to 08_Q2_2023_TTM.pdf\n",
            "Saving 09_Q3_2023_TTM.pdf to 09_Q3_2023_TTM.pdf\n",
            "Saving 10_Q4_2023_TTM.pdf to 10_Q4_2023_TTM.pdf\n",
            "Saving 11_Q1_2024_TTM.pdf to 11_Q1_2024_TTM.pdf\n",
            "Saving 12_Q2_2024_TTM.pdf to 12_Q2_2024_TTM.pdf\n",
            "Saving 13_Q3_2024_TTM.pdf to 13_Q3_2024_TTM.pdf\n",
            "Saving 14_Q4_2024_TTM.pdf to 14_Q4_2024_TTM.pdf\n",
            "Saving 15_Q1_2025_TTM.pdf to 15_Q1_2025_TTM.pdf\n"
          ]
        }
      ]
    },
    {
      "cell_type": "code",
      "source": [
        "import os\n",
        "import pandas as pd\n",
        "from docx import Document\n",
        "import PyPDF2\n",
        "\n",
        "# === Sentiment keywords ===\n",
        "POSITIVE_KEYWORDS = [\n",
        "    \"record revenue\", \"record earnings\", \"profit growth\", \"net income increase\",\n",
        "    \"revenue beat\", \"earnings beat\", \"surpassed expectations\", \"strong quarter\",\n",
        "    \"year-over-year growth\", \"top-line growth\", \"bottom-line growth\",\n",
        "    \"operating margin expansion\", \"gross margin improvement\", \"positive cash flow\",\n",
        "    \"free cash flow growth\", \"cost efficiency\", \"higher sales volume\",\n",
        "    \"double-digit growth\", \"sequential improvement\", \"above guidance\",\n",
        "    \"raised guidance\", \"increased forecast\", \"strong outlook\", \"expected growth\",\n",
        "    \"momentum continues\", \"robust pipeline\", \"favorable trends\", \"tailwinds\",\n",
        "    \"visibility into future quarters\", \"confident in execution\", \"guidance reaffirmed\",\n",
        "    \"accelerating growth\", \"pleased with results\", \"solid execution\",\n",
        "    \"well-positioned\", \"business resilience\", \"successful rollout\",\n",
        "    \"customer satisfaction\", \"record customer retention\", \"expanding market share\",\n",
        "    \"high demand\", \"continued strength\", \"strategic investments paying off\",\n",
        "    \"dividend increase\", \"share repurchase\", \"strong balance sheet\",\n",
        "    \"debt reduction\", \"liquidity position\", \"capital return to shareholders\"\n",
        "]\n",
        "\n",
        "NEGATIVE_KEYWORDS = [\n",
        "     \"missed expectations\", \"below guidance\", \"decline in revenue\", \"decline in earnings\",\n",
        "    \"year-over-year decline\", \"profit warning\", \"lower-than-expected\", \"negative cash flow\",\n",
        "    \"losses widened\", \"margin compression\", \"decreased margins\", \"cost pressures\",\n",
        "    \"operating loss\", \"sales slump\", \"soft demand\", \"inventory buildup\", \"revenue shortfall\",\n",
        "    \"restructuring charges\", \"underperformance\", \"weak quarter\", \"lowered forecast\",\n",
        "    \"revised guidance downward\", \"uncertain outlook\", \"challenging environment\", \"headwinds\",\n",
        "    \"cautious outlook\", \"macroeconomic uncertainty\", \"foreign exchange impact\", \"slower growth expected\",\n",
        "    \"declining demand\", \"market volatility\", \"geopolitical uncertainty\", \"inflationary pressures\",\n",
        "    \"weaker-than-expected\", \"significant challenges\", \"unexpected losses\", \"adverse conditions\",\n",
        "    \"temporary setback\", \"supply chain disruption\", \"labor shortages\", \"difficult comparison\",\n",
        "    \"execution issues\", \"operational inefficiencies\", \"increased debt\", \"liquidity concerns\",\n",
        "    \"capital constraints\", \"credit rating downgrade\", \"higher costs\", \"rising expenses\",\n",
        "    \"cash burn\", \"unprofitable segment\", \"write-down\", \"impairment charge\"\n",
        "]\n",
        "\n",
        "def extract_text_from_docx(file_path):\n",
        "    try:\n",
        "        doc = Document(file_path)\n",
        "        return \"\\n\".join(p.text for p in doc.paragraphs)\n",
        "    except:\n",
        "        return \"\"\n",
        "\n",
        "def extract_text_from_pdf(file_path):\n",
        "    try:\n",
        "        text = \"\"\n",
        "        with open(file_path, 'rb') as file:\n",
        "            reader = PyPDF2.PdfReader(file)\n",
        "            for page in reader.pages:\n",
        "                content = page.extract_text()\n",
        "                if content:\n",
        "                    text += content + \"\\n\"\n",
        "        return text\n",
        "    except:\n",
        "        return \"\"\n",
        "\n",
        "def score_sentiment(text):\n",
        "    text = text.lower()\n",
        "    pos = [kw for kw in POSITIVE_KEYWORDS if kw in text]\n",
        "    neg = [kw for kw in NEGATIVE_KEYWORDS if kw in text]\n",
        "    return len(pos) - len(neg), pos, neg\n",
        "\n",
        "# Analyze all uploaded files\n",
        "results = []\n",
        "\n",
        "for filename in uploaded.keys():\n",
        "    ext = os.path.splitext(filename)[1].lower()\n",
        "    if ext not in ['.pdf', '.docx']:\n",
        "        continue\n",
        "\n",
        "    print(f\"Analyzing: {filename}\")\n",
        "    text = extract_text_from_pdf(filename) if ext == '.pdf' else extract_text_from_docx(filename)\n",
        "\n",
        "    if not text.strip():\n",
        "        continue\n",
        "\n",
        "    score, pos, neg = score_sentiment(text)\n",
        "\n",
        "    results.append({\n",
        "        'Filename': filename,\n",
        "        'Sentiment Score': score,\n",
        "        'Positive Matches': ', '.join(pos),\n",
        "        'Negative Matches': ', '.join(neg)\n",
        "    })\n",
        "\n",
        "# Export to Excel\n",
        "df = pd.DataFrame(results)\n",
        "excel_file = 'sentiment_results.xlsx'\n",
        "df.to_excel(excel_file, index=False)\n",
        "print(f\"\\n✅ Analysis complete. Excel file created: {excel_file}\")\n"
      ],
      "metadata": {
        "id": "fNVhi9VzCbKT",
        "outputId": "58046cb2-8f7a-4601-b21f-fe7a3b2715b9",
        "colab": {
          "base_uri": "https://localhost:8080/"
        }
      },
      "execution_count": 14,
      "outputs": [
        {
          "output_type": "stream",
          "name": "stdout",
          "text": [
            "Analyzing: 01_Q3_2021_TTM.pdf\n",
            "Analyzing: 02_Q4_2021_TTM.pdf\n",
            "Analyzing: 03_Q1_2022_TTM.pdf\n",
            "Analyzing: 04_Q2_2022_TTM.pdf\n",
            "Analyzing: 05_Q3_2022_TTM.pdf\n",
            "Analyzing: 06_Q4_2022_TTM.pdf\n",
            "Analyzing: 07_Q1_2023_TTM.pdf\n",
            "Analyzing: 08_Q2_2023_TTM.pdf\n",
            "Analyzing: 09_Q3_2023_TTM.pdf\n",
            "Analyzing: 10_Q4_2023_TTM.pdf\n",
            "Analyzing: 11_Q1_2024_TTM.pdf\n",
            "Analyzing: 12_Q2_2024_TTM.pdf\n",
            "Analyzing: 13_Q3_2024_TTM.pdf\n",
            "Analyzing: 14_Q4_2024_TTM.pdf\n",
            "Analyzing: 15_Q1_2025_TTM.pdf\n",
            "\n",
            "✅ Analysis complete. Excel file created: sentiment_results.xlsx\n"
          ]
        }
      ]
    },
    {
      "cell_type": "code",
      "source": [
        "files.download('sentiment_results.xlsx')\n"
      ],
      "metadata": {
        "id": "sAjohXlvCfnY",
        "outputId": "8ec403d1-68aa-4c1d-9fde-a067efd924a4",
        "colab": {
          "base_uri": "https://localhost:8080/",
          "height": 17
        }
      },
      "execution_count": 15,
      "outputs": [
        {
          "output_type": "display_data",
          "data": {
            "text/plain": [
              "<IPython.core.display.Javascript object>"
            ],
            "application/javascript": [
              "\n",
              "    async function download(id, filename, size) {\n",
              "      if (!google.colab.kernel.accessAllowed) {\n",
              "        return;\n",
              "      }\n",
              "      const div = document.createElement('div');\n",
              "      const label = document.createElement('label');\n",
              "      label.textContent = `Downloading \"${filename}\": `;\n",
              "      div.appendChild(label);\n",
              "      const progress = document.createElement('progress');\n",
              "      progress.max = size;\n",
              "      div.appendChild(progress);\n",
              "      document.body.appendChild(div);\n",
              "\n",
              "      const buffers = [];\n",
              "      let downloaded = 0;\n",
              "\n",
              "      const channel = await google.colab.kernel.comms.open(id);\n",
              "      // Send a message to notify the kernel that we're ready.\n",
              "      channel.send({})\n",
              "\n",
              "      for await (const message of channel.messages) {\n",
              "        // Send a message to notify the kernel that we're ready.\n",
              "        channel.send({})\n",
              "        if (message.buffers) {\n",
              "          for (const buffer of message.buffers) {\n",
              "            buffers.push(buffer);\n",
              "            downloaded += buffer.byteLength;\n",
              "            progress.value = downloaded;\n",
              "          }\n",
              "        }\n",
              "      }\n",
              "      const blob = new Blob(buffers, {type: 'application/binary'});\n",
              "      const a = document.createElement('a');\n",
              "      a.href = window.URL.createObjectURL(blob);\n",
              "      a.download = filename;\n",
              "      div.appendChild(a);\n",
              "      a.click();\n",
              "      div.remove();\n",
              "    }\n",
              "  "
            ]
          },
          "metadata": {}
        },
        {
          "output_type": "display_data",
          "data": {
            "text/plain": [
              "<IPython.core.display.Javascript object>"
            ],
            "application/javascript": [
              "download(\"download_13d41fe6-54c3-4ca3-b3d1-c819bb5bee35\", \"sentiment_results.xlsx\", 5709)"
            ]
          },
          "metadata": {}
        }
      ]
    },
    {
      "cell_type": "code",
      "source": [],
      "metadata": {
        "id": "jBVPTB7Bmbis"
      },
      "execution_count": null,
      "outputs": []
    }
  ]
}