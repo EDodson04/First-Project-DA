{
  "nbformat": 4,
  "nbformat_minor": 0,
  "metadata": {
    "colab": {
      "provenance": [],
      "authorship_tag": "ABX9TyPqnUKS6TdBJna56UKq6qKo",
      "include_colab_link": true
    },
    "kernelspec": {
      "name": "python3",
      "display_name": "Python 3"
    },
    "language_info": {
      "name": "python"
    }
  },
  "cells": [
    {
      "cell_type": "markdown",
      "metadata": {
        "id": "view-in-github",
        "colab_type": "text"
      },
      "source": [
        "<a href=\"https://colab.research.google.com/github/EDodson04/First-Project-DA/blob/main/TEDA_Module3_practice_Dodson.ipynb\" target=\"_parent\"><img src=\"https://colab.research.google.com/assets/colab-badge.svg\" alt=\"Open In Colab\"/></a>"
      ]
    },
    {
      "cell_type": "code",
      "source": [
        "import pandas as pd"
      ],
      "metadata": {
        "id": "NIDuPYEa59Qu"
      },
      "execution_count": 2,
      "outputs": []
    },
    {
      "cell_type": "code",
      "execution_count": 3,
      "metadata": {
        "id": "GhZ4NjXV5m8V"
      },
      "outputs": [],
      "source": [
        "import requests"
      ]
    },
    {
      "cell_type": "code",
      "source": [
        "requests.get('https://btech-data-analytics.github.io/bridgerland-technical-college/employees_3.html').text"
      ],
      "metadata": {
        "colab": {
          "base_uri": "https://localhost:8080/",
          "height": 123
        },
        "id": "Y7kZtlk7582P",
        "outputId": "26650c43-06fb-4976-bf04-0e39e5e6fc3a"
      },
      "execution_count": 4,
      "outputs": [
        {
          "output_type": "execute_result",
          "data": {
            "text/plain": [
              "'<!DOCTYPE html>\\n<html>\\n<head>\\n    <title>Employees Table</title>\\n    <style>\\n        table {\\n            border-collapse: collapse;\\n            width: 50%;\\n            margin: 20px auto;\\n            font-family: \\'Gill Sans\\', \\'Gill Sans MT\\', Calibri, \\'Trebuchet MS\\', sans-serif;\\n        }\\n        th, td {\\n            border: 1px solid #ddd;\\n            padding: 8px;\\n            text-align: left;\\n        }\\n        tr:nth-child(odd) {\\n            background-color: #ddd;\\n        }\\n        tr:nth-child(odd):hover {\\n            background-color: #ccc;\\n        }\\n        tr:nth-child(even):hover {\\n            background-color: #eee;\\n        }\\n        th {\\n            cursor: pointer;\\n            background-color: #222;\\n            color: #eee\\n        }\\n        th:hover {\\n            background-color: #333;\\n        }\\n        h1{\\n            text-align: center;\\n            font-family: \\'Franklin Gothic Medium\\', \\'Arial Narrow\\', Arial, sans-serif;\\n            font-size: 80px;\\n            font-kerning: normal;\\n            color: #7d231f;\\n            \\n        }\\n        h2{\\n            text-align: center;\\n            font-family: \\'Franklin Gothic Medium\\', \\'Arial Narrow\\', Arial, sans-serif;\\n            font-size: 60px;\\n            font-kerning: normal;\\n            color: #4e0c09;\\n            \\n        }\\n        p {\\n            font-family: \\'Courier New\\', Courier, monospace;\\n            font-size: large;\\n        }\\n    </style>\\n</head>\\n<body>\\n    <p>This page was created using HTML, CSS, and JavaScript. The HTML code provides the structure of the page, the CSS determines how each element should be formatted, and JavaScript determines how the user can interact with the web page. In this case, JavaScript allows users to click the column names of the table below to sort the data.</p>\\n    <h1>Employees</h1>\\n    <table id=\"data-table\">\\n        <thead>\\n            <tr>\\n                <th onclick=\"sortTable(0)\">ID</th>\\n                <th onclick=\"sortTable(1)\">Name</th>\\n                <th onclick=\"sortTable(2)\">Age</th>\\n            </tr>\\n        </thead>\\n        <tbody>\\n            <tr class=\"employee\">\\n                <td>101</td>\\n                <td>John Doe</td>\\n                <td>28</td>\\n            </tr>\\n            <tr class=\"employee\">\\n                <td>102</td>\\n                <td>Jane Smith</td>\\n                <td>32</td>\\n            </tr>\\n            <tr class=\"employee\">\\n                <td>103</td>\\n                <td>Robert Johnson</td>\\n                <td>24</td>\\n            </tr>\\n            <tr class=\"employee\">\\n                <td>104</td>\\n                <td>Mary Johnson</td>\\n                <td>29</td>\\n            </tr>\\n            <tr class=\"employee\">\\n                <td>105</td>\\n                <td>Michael Brown</td>\\n                <td>35</td>\\n            </tr>\\n            <tr class=\"employee\">\\n                <td>106</td>\\n                <td>Susan Davis</td>\\n                <td>27</td>\\n            </tr>\\n            <tr class=\"employee\">\\n                <td>107</td>\\n                <td>David Wilson</td>\\n                <td>31</td>\\n            </tr>\\n            <tr class=\"employee\">\\n                <td>108</td>\\n                <td>Linda Miller</td>\\n                <td>33</td>\\n            </tr>\\n        </tbody>\\n    </table>\\n<h2>Why it\\'s important</h2>\\n<p>As you might be able to see, the actual data of this web page is stored in the HTML code. Both CSS and JavaScript have nothing to do with the actual data itself, but mostly just make the page look and work better. Thus, for web scraping the data from this page, only a knowledge of HTML is required.</p>\\n<p>However, more modern websites don\\'t always deliver the data in nice HTML tables. CSS is often used as a locator to locate the data inside of a particular table. Furthermore, more and more websites nowadays deliver empty HTML pages that are later populated with JavaScript processes to stop others from web scraping their sites. These issues are important to know about when performing web scraping.</p>\\n    <script>\\n        function sortTable(column) {\\n            var table, rows, switching, i, x, y, shouldSwitch;\\n            table = document.getElementById(\"data-table\");\\n            switching = true;\\n\\n            while (switching) {\\n                switching = false;\\n                rows = table.rows;\\n\\n                for (i = 1; i < (rows.length - 1); i++) {\\n                    shouldSwitch = false;\\n                    x = rows[i].getElementsByTagName(\"td\")[column];\\n                    y = rows[i + 1].getElementsByTagName(\"td\")[column];\\n\\n                    if (x.innerHTML.toLowerCase() > y.innerHTML.toLowerCase()) {\\n                        shouldSwitch = true;\\n                        break;\\n                    }\\n                }\\n\\n                if (shouldSwitch) {\\n                    rows[i].parentNode.insertBefore(rows[i + 1], rows[i]);\\n                    switching = true;\\n                }\\n            }\\n        }\\n    </script>\\n</body>\\n</html>\\n'"
            ],
            "application/vnd.google.colaboratory.intrinsic+json": {
              "type": "string"
            }
          },
          "metadata": {},
          "execution_count": 4
        }
      ]
    },
    {
      "cell_type": "code",
      "source": [
        "response = requests.get('https://btech-data-analytics.github.io/bridgerland-technical-college/employees_3.html').text"
      ],
      "metadata": {
        "id": "DbquRBtU8WlE"
      },
      "execution_count": 9,
      "outputs": []
    },
    {
      "cell_type": "code",
      "source": [
        "from bs4 import BeautifulSoup"
      ],
      "metadata": {
        "id": "RaZK9p0U8t-r"
      },
      "execution_count": 10,
      "outputs": []
    },
    {
      "cell_type": "code",
      "source": [
        "response = requests.get('https://btech-data-analytics.github.io/bridgerland-technical-college/employees_3.html').text"
      ],
      "metadata": {
        "id": "A3kBtSRU8zxH"
      },
      "execution_count": 11,
      "outputs": []
    },
    {
      "cell_type": "code",
      "source": [
        "soup = BeautifulSoup(response, 'html.parser')"
      ],
      "metadata": {
        "id": "fUDNfD8Y9AeH"
      },
      "execution_count": 12,
      "outputs": []
    },
    {
      "cell_type": "code",
      "source": [
        "soup.find('title')"
      ],
      "metadata": {
        "colab": {
          "base_uri": "https://localhost:8080/"
        },
        "id": "1dl9cQBk9wZ5",
        "outputId": "65ee8b70-4510-480d-e756-cb57f2ee6e9a"
      },
      "execution_count": 13,
      "outputs": [
        {
          "output_type": "execute_result",
          "data": {
            "text/plain": [
              "<title>Employees Table</title>"
            ]
          },
          "metadata": {},
          "execution_count": 13
        }
      ]
    },
    {
      "cell_type": "code",
      "source": [
        "soup.find_all('a')"
      ],
      "metadata": {
        "colab": {
          "base_uri": "https://localhost:8080/"
        },
        "id": "X1Ps-FND95Je",
        "outputId": "abd2b099-fe28-4447-d858-e7ecf4587efc"
      },
      "execution_count": 14,
      "outputs": [
        {
          "output_type": "execute_result",
          "data": {
            "text/plain": [
              "[]"
            ]
          },
          "metadata": {},
          "execution_count": 14
        }
      ]
    },
    {
      "cell_type": "code",
      "source": [
        "soup.find_all('div')"
      ],
      "metadata": {
        "colab": {
          "base_uri": "https://localhost:8080/"
        },
        "id": "DMYt2jEt9-9j",
        "outputId": "1fe5145c-1abb-485e-d5a9-c7efb9694b7c"
      },
      "execution_count": 15,
      "outputs": [
        {
          "output_type": "execute_result",
          "data": {
            "text/plain": [
              "[]"
            ]
          },
          "metadata": {},
          "execution_count": 15
        }
      ]
    },
    {
      "cell_type": "code",
      "source": [
        "soup.find('table').find_all('tr', class_ = 'employee')[0].find_all('td')[2].text"
      ],
      "metadata": {
        "colab": {
          "base_uri": "https://localhost:8080/",
          "height": 36
        },
        "id": "S37wszLYmIR8",
        "outputId": "e9fd9423-aea8-46b4-a363-7c5380f9fa5e"
      },
      "execution_count": 32,
      "outputs": [
        {
          "output_type": "execute_result",
          "data": {
            "text/plain": [
              "'28'"
            ],
            "application/vnd.google.colaboratory.intrinsic+json": {
              "type": "string"
            }
          },
          "metadata": {},
          "execution_count": 32
        }
      ]
    },
    {
      "cell_type": "code",
      "source": [
        "for employee in soup.find('table').find_all('tr', class_ = 'employee'):\n",
        "    print(employee.find_all('td')[2].text)"
      ],
      "metadata": {
        "colab": {
          "base_uri": "https://localhost:8080/"
        },
        "id": "xneAghwxmu65",
        "outputId": "393a3c49-793e-4e25-a9f2-a41ee9df4ac3"
      },
      "execution_count": 33,
      "outputs": [
        {
          "output_type": "stream",
          "name": "stdout",
          "text": [
            "28\n",
            "32\n",
            "24\n",
            "29\n",
            "35\n",
            "27\n",
            "31\n",
            "33\n"
          ]
        }
      ]
    },
    {
      "cell_type": "code",
      "source": [
        "age = []\n",
        "\n",
        "for employee in soup.find('table').find_all('tr', class_ = 'employee'):\n",
        "    age.append(employee.find_all('td')[2].text)"
      ],
      "metadata": {
        "id": "pofkYMfTsuk9"
      },
      "execution_count": 34,
      "outputs": []
    },
    {
      "cell_type": "code",
      "source": [
        "age"
      ],
      "metadata": {
        "colab": {
          "base_uri": "https://localhost:8080/"
        },
        "id": "YfBsPbCftQfC",
        "outputId": "1941b48c-04be-42bb-aeae-b8f3ba082f5b"
      },
      "execution_count": 35,
      "outputs": [
        {
          "output_type": "execute_result",
          "data": {
            "text/plain": [
              "['28', '32', '24', '29', '35', '27', '31', '33']"
            ]
          },
          "metadata": {},
          "execution_count": 35
        }
      ]
    },
    {
      "cell_type": "code",
      "source": [
        "df = pd.DataFrame({\n",
        "    'age': age\n",
        "})"
      ],
      "metadata": {
        "id": "9awBwUCktWGK"
      },
      "execution_count": 37,
      "outputs": []
    },
    {
      "cell_type": "code",
      "source": [
        "df.info()"
      ],
      "metadata": {
        "colab": {
          "base_uri": "https://localhost:8080/"
        },
        "id": "uV86_caCtVq0",
        "outputId": "ae2b6d4e-7af5-4e5f-a8dd-c87424f7e022"
      },
      "execution_count": 38,
      "outputs": [
        {
          "output_type": "stream",
          "name": "stdout",
          "text": [
            "<class 'pandas.core.frame.DataFrame'>\n",
            "RangeIndex: 8 entries, 0 to 7\n",
            "Data columns (total 1 columns):\n",
            " #   Column  Non-Null Count  Dtype \n",
            "---  ------  --------------  ----- \n",
            " 0   age     8 non-null      object\n",
            "dtypes: object(1)\n",
            "memory usage: 196.0+ bytes\n"
          ]
        }
      ]
    },
    {
      "cell_type": "code",
      "source": [
        "# use this to covert object to number\n",
        "\n",
        "import pandas as pd\n",
        "df['age'] = pd.to_numeric(df['age'], errors='coerce')\n",
        "df.info()\n"
      ],
      "metadata": {
        "colab": {
          "base_uri": "https://localhost:8080/"
        },
        "id": "y10VQ4MQtydP",
        "outputId": "4ad26b9f-75ec-4ed2-ad08-69f4b82488ce"
      },
      "execution_count": 39,
      "outputs": [
        {
          "output_type": "stream",
          "name": "stdout",
          "text": [
            "<class 'pandas.core.frame.DataFrame'>\n",
            "RangeIndex: 8 entries, 0 to 7\n",
            "Data columns (total 1 columns):\n",
            " #   Column  Non-Null Count  Dtype\n",
            "---  ------  --------------  -----\n",
            " 0   age     8 non-null      int64\n",
            "dtypes: int64(1)\n",
            "memory usage: 196.0 bytes\n"
          ]
        }
      ]
    },
    {
      "cell_type": "code",
      "source": [
        "# get the average of age\n",
        "\n",
        "import pandas as pd\n",
        "import requests\n",
        "from bs4 import BeautifulSoup\n",
        "\n",
        "response = requests.get('https://btech-data-analytics.github.io/bridgerland-technical-college/employees_3.html').text\n",
        "soup = BeautifulSoup(response, 'html.parser')\n",
        "\n",
        "age = []\n",
        "for employee in soup.find('table').find_all('tr', class_='employee'):\n",
        "    age.append(employee.find_all('td')[2].text)\n",
        "\n",
        "df = pd.DataFrame({'age': age})\n",
        "df['age'] = pd.to_numeric(df['age'], errors='coerce')\n",
        "\n",
        "# Calculate the average age, ignoring NaN values\n",
        "average_age = df['age'].mean()\n",
        "print(f\"The average age is: {average_age}\")\n"
      ],
      "metadata": {
        "colab": {
          "base_uri": "https://localhost:8080/"
        },
        "id": "Suw7wTCRt4Pk",
        "outputId": "59234b0a-f282-44bc-9df6-991541c7aabe"
      },
      "execution_count": 41,
      "outputs": [
        {
          "output_type": "stream",
          "name": "stdout",
          "text": [
            "The average age is: 29.875\n"
          ]
        }
      ]
    },
    {
      "cell_type": "code",
      "source": [
        "response = requests.get('https://btech-data-analytics.github.io/bridgerland-technical-college/employees_3.html').text\n",
        "soup = BeautifulSoup(response, 'html.parser')\n",
        "\n",
        "age = []\n",
        "for employee in soup.find('table').find_all('tr', class_='employee'):\n",
        "    age.append(employee.find_all('td')[2].text)\n",
        "\n",
        "df = pd.DataFrame({'age': age})\n",
        "df['age'] = pd.to_numeric(df['age'], errors='coerce')\n",
        "\n",
        "# Calculate the average age, ignoring NaN values\n",
        "average_age = df['age'].mean()\n",
        "print(f\"The average age is: {average_age}\")"
      ],
      "metadata": {
        "colab": {
          "base_uri": "https://localhost:8080/"
        },
        "id": "U-iY-Nv4z4KR",
        "outputId": "a3c97348-d30b-47ef-d665-17b87b151dcd"
      },
      "execution_count": 42,
      "outputs": [
        {
          "output_type": "stream",
          "name": "stdout",
          "text": [
            "The average age is: 29.875\n"
          ]
        }
      ]
    },
    {
      "cell_type": "code",
      "source": [
        "response = requests.get('https://btech-data-analytics.github.io/bridgerland-technical-college/employees_3.html').text\n",
        "soup = BeautifulSoup(response, 'html.parser')\n",
        "\n",
        "age = []\n",
        "for employee in soup.find('table').find_all('tr', class_='employee'):\n",
        "    age.append(employee.find_all('td')[2].text)\n",
        "\n",
        "df = pd.DataFrame({'age': age})\n",
        "df['age'] = pd.to_numeric(df['age'], errors='coerce')\n",
        "\n",
        "# Calculate the standard deviation of age, ignoring NaN values\n",
        "std_dev_age = df['age'].std()\n",
        "print(f\"The standard deviation of age is: {std_dev_age}\")\n"
      ],
      "metadata": {
        "colab": {
          "base_uri": "https://localhost:8080/"
        },
        "id": "ioTcHdoK2EJQ",
        "outputId": "a9b9e40f-d050-4ae6-dbce-d91b30292a85"
      },
      "execution_count": 50,
      "outputs": [
        {
          "output_type": "stream",
          "name": "stdout",
          "text": [
            "The standard deviation of age is: 3.563204817496262\n"
          ]
        }
      ]
    }
  ]
}